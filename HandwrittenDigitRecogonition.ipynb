{
 "cells": [
  {
   "cell_type": "code",
   "execution_count": 1,
   "id": "0c6bc25b",
   "metadata": {},
   "outputs": [],
   "source": [
    "#importing numpy and matplotlib\n",
    "import numpy as np\n",
    "import matplotlib.pyplot as plt\n",
    "#importing keras and keras dataset(Mnist)\n",
    "import keras \n",
    "from  keras.datasets import mnist\n",
    "#sklearn imports\n",
    "#sklearn for preprocessing\n",
    "from sklearn.preprocessing import StandardScaler\n",
    "from sklearn.preprocessing import OneHotEncoder\n",
    "#imports for the creating models\n",
    "from keras.models import Sequential\n",
    "from keras.layers import Dense , Conv2D , MaxPool2D ,Flatten,Dropout\n",
    "from keras.callbacks import ModelCheckpoint , EarlyStopping\n",
    "#importing cv2\n",
    "import cv2"
   ]
  },
  {
   "cell_type": "code",
   "execution_count": 2,
   "id": "b1cccc6f",
   "metadata": {
    "scrolled": false
   },
   "outputs": [],
   "source": [
    "#importing datasets\n",
    "(X_train , y_train) , (X_test , y_test) = mnist.load_data()\n",
    "\n",
    "\n",
    "def dataset_disc(n):\n",
    "    #dataset viszualisation \n",
    "    #shape of the dataset\n",
    "    X_train.shape , X_test.shape\n",
    "    #dataset \n",
    "    plt.title(f'The number is : {y_train[n]}')\n",
    "    plt.imshow(X_train[n] , cmap='binary')\n",
    "    plt.axis('off')\n",
    "    plt.show()"
   ]
  },
  {
   "cell_type": "markdown",
   "id": "24260689",
   "metadata": {},
   "source": [
    "#preprocessing data\n",
    "#normalization and reshaping using Standard scalar from sklearn\n",
    "scaler = StandardScaler()\n",
    "X_train = scaler.fit_transform(X_train.reshape(-1, X_train.shape[-1])).reshape(X_train.shape)\n",
    "X_test = scaler.fit_transform(X_test.reshape(-1, X_test.shape[-1])).reshape(X_test.shape)\n",
    "print(X_train[33])\n",
    "plt.imshow(X_train[33] , cmap='binary')"
   ]
  },
  {
   "cell_type": "code",
   "execution_count": 3,
   "id": "9da51dad",
   "metadata": {
    "scrolled": true
   },
   "outputs": [
    {
     "name": "stdout",
     "output_type": "stream",
     "text": [
      "(28, 28, 1)\n"
     ]
    }
   ],
   "source": [
    "#preprocessing data\n",
    "#normalization and reshaping\n",
    "X_train = X_train.astype(np.float32)/255\n",
    "X_test = X_test.astype(np.float32)/255\n",
    "#expanding the dimention from (28,28) to (28,28,1)\n",
    "X_train = np.expand_dims(X_train , -1)\n",
    "X_test = np.expand_dims(X_test , -1)\n",
    "print(X_train[1].shape)\n",
    "\n",
    "#OneHotEncoding the y datas\n",
    "y_train =  keras.utils.to_categorical(y_train)\n",
    "y_test =  keras.utils.to_categorical(y_test)"
   ]
  },
  {
   "cell_type": "code",
   "execution_count": 4,
   "id": "508406e9",
   "metadata": {},
   "outputs": [],
   "source": [
    "#building models\n",
    "model = Sequential()\n",
    "\n",
    "model.add(Conv2D(32,input_shape = (28,28,1),kernel_size=(3,3),activation='relu'))\n",
    "model.add(MaxPool2D((2,2)))\n",
    "model.add(Flatten())\n",
    "model.add(Dropout(0.25))\n",
    "model.add(Dense(10,activation='softmax'))"
   ]
  },
  {
   "cell_type": "code",
   "execution_count": 5,
   "id": "f73e07c0",
   "metadata": {},
   "outputs": [
    {
     "name": "stdout",
     "output_type": "stream",
     "text": [
      "Model: \"sequential\"\n",
      "_________________________________________________________________\n",
      " Layer (type)                Output Shape              Param #   \n",
      "=================================================================\n",
      " conv2d (Conv2D)             (None, 26, 26, 32)        320       \n",
      "                                                                 \n",
      " max_pooling2d (MaxPooling2D  (None, 13, 13, 32)       0         \n",
      " )                                                               \n",
      "                                                                 \n",
      " flatten (Flatten)           (None, 5408)              0         \n",
      "                                                                 \n",
      " dropout (Dropout)           (None, 5408)              0         \n",
      "                                                                 \n",
      " dense (Dense)               (None, 10)                54090     \n",
      "                                                                 \n",
      "=================================================================\n",
      "Total params: 54,410\n",
      "Trainable params: 54,410\n",
      "Non-trainable params: 0\n",
      "_________________________________________________________________\n"
     ]
    }
   ],
   "source": [
    "#model summary and complilation \n",
    "model.summary()\n",
    "#model uses adam as optimizer and categorical_crossentropy for losses.\n",
    "model.compile(optimizer='adam',loss= keras.losses.categorical_crossentropy, metrics=['accuracy'])"
   ]
  },
  {
   "cell_type": "code",
   "execution_count": 6,
   "id": "3a59b7a9",
   "metadata": {},
   "outputs": [],
   "source": [
    "#callbacks for the model (earlystopping and modelcheckpoint)\n",
    "earlystopping = EarlyStopping(monitor='val_accuracy',min_delta=0.01,patience=4,verbose=1)\n",
    "modelcheckpoint = ModelCheckpoint('./digitRecogonitionModel.h5',monitor='val_accuracy',verbose=1,save_best_only=True,mode='max')\n",
    "callbacks = [earlystopping,modelcheckpoint]"
   ]
  },
  {
   "cell_type": "code",
   "execution_count": 7,
   "id": "ae501a68",
   "metadata": {},
   "outputs": [
    {
     "name": "stdout",
     "output_type": "stream",
     "text": [
      "Epoch 1/50\n",
      "1310/1313 [============================>.] - ETA: 0s - loss: 0.2787 - accuracy: 0.9203\n",
      "Epoch 1: val_accuracy improved from -inf to 0.96422, saving model to .\\digitRecogonitionModel.h5\n",
      "1313/1313 [==============================] - 10s 7ms/step - loss: 0.2784 - accuracy: 0.9204 - val_loss: 0.1233 - val_accuracy: 0.9642\n",
      "Epoch 2/50\n",
      "1312/1313 [============================>.] - ETA: 0s - loss: 0.1034 - accuracy: 0.9696\n",
      "Epoch 2: val_accuracy improved from 0.96422 to 0.97283, saving model to .\\digitRecogonitionModel.h5\n",
      "1313/1313 [==============================] - 10s 7ms/step - loss: 0.1034 - accuracy: 0.9696 - val_loss: 0.0889 - val_accuracy: 0.9728\n",
      "Epoch 3/50\n",
      "1311/1313 [============================>.] - ETA: 0s - loss: 0.0794 - accuracy: 0.9768\n",
      "Epoch 3: val_accuracy improved from 0.97283 to 0.97467, saving model to .\\digitRecogonitionModel.h5\n",
      "1313/1313 [==============================] - 11s 8ms/step - loss: 0.0796 - accuracy: 0.9767 - val_loss: 0.0834 - val_accuracy: 0.9747\n",
      "Epoch 4/50\n",
      "1307/1313 [============================>.] - ETA: 0s - loss: 0.0670 - accuracy: 0.9794\n",
      "Epoch 4: val_accuracy improved from 0.97467 to 0.97756, saving model to .\\digitRecogonitionModel.h5\n",
      "1313/1313 [==============================] - 9s 7ms/step - loss: 0.0671 - accuracy: 0.9794 - val_loss: 0.0748 - val_accuracy: 0.9776\n",
      "Epoch 5/50\n",
      "1310/1313 [============================>.] - ETA: 0s - loss: 0.0608 - accuracy: 0.9809\n",
      "Epoch 5: val_accuracy did not improve from 0.97756\n",
      "1313/1313 [==============================] - 9s 7ms/step - loss: 0.0610 - accuracy: 0.9809 - val_loss: 0.0742 - val_accuracy: 0.9776\n",
      "Epoch 6/50\n",
      "1310/1313 [============================>.] - ETA: 0s - loss: 0.0533 - accuracy: 0.9837\n",
      "Epoch 6: val_accuracy improved from 0.97756 to 0.97928, saving model to .\\digitRecogonitionModel.h5\n",
      "1313/1313 [==============================] - 8s 6ms/step - loss: 0.0532 - accuracy: 0.9837 - val_loss: 0.0673 - val_accuracy: 0.9793\n",
      "Epoch 7/50\n",
      "1306/1313 [============================>.] - ETA: 0s - loss: 0.0502 - accuracy: 0.9836\n",
      "Epoch 7: val_accuracy did not improve from 0.97928\n",
      "1313/1313 [==============================] - 8s 6ms/step - loss: 0.0502 - accuracy: 0.9836 - val_loss: 0.0689 - val_accuracy: 0.9786\n",
      "Epoch 7: early stopping\n"
     ]
    }
   ],
   "source": [
    "#training model\n",
    "his_train =model.fit(X_train,y_train,epochs=50,validation_split=0.3,callbacks=callbacks,)"
   ]
  },
  {
   "cell_type": "code",
   "execution_count": 10,
   "id": "a3771102",
   "metadata": {},
   "outputs": [
    {
     "name": "stdout",
     "output_type": "stream",
     "text": [
      "313/313 [==============================] - 1s 2ms/step - loss: 0.0544 - accuracy: 0.9821\n"
     ]
    },
    {
     "data": {
      "text/plain": [
       "[0.054399531334638596, 0.9821000099182129]"
      ]
     },
     "execution_count": 10,
     "metadata": {},
     "output_type": "execute_result"
    }
   ],
   "source": [
    "#loading saved model from the directory and calculating the model accuracy \n",
    "saved_model = keras.models.load_model(\"D:\\PROGRAMMING\\deepLearning\\handwrittenDigitRecognition\\digitRecogonitionModel.h5\")\n",
    "saved_model.evaluate(X_test,y_test)"
   ]
  },
  {
   "cell_type": "code",
   "execution_count": 28,
   "id": "92a56156",
   "metadata": {
    "scrolled": false
   },
   "outputs": [
    {
     "name": "stdout",
     "output_type": "stream",
     "text": [
      "(90, 88, 3)\n",
      "(90, 88)\n",
      "(28, 28)\n",
      "(1, 28, 28, 1)\n"
     ]
    }
   ],
   "source": [
    "#input from user \n",
    "input_image = cv2.imread('./image_3.PNG')\n",
    "print(input_image.shape)\n",
    "#grayscalig to reduce the dimention from 3 to 1\n",
    "input_image = cv2.cvtColor(input_image,cv2.COLOR_RGB2GRAY)\n",
    "print(input_image.shape)\n",
    "input_image = cv2.resize(input_image,(28,28))\n",
    "print(input_image.shape)\n",
    "input_image = input_image/255\n",
    "input_image = np.reshape(input_image , [1,28,28,1])\n",
    "print(input_image.shape)"
   ]
  },
  {
   "cell_type": "code",
   "execution_count": 29,
   "id": "555f62e2",
   "metadata": {},
   "outputs": [
    {
     "name": "stdout",
     "output_type": "stream",
     "text": [
      "1/1 [==============================] - 0s 13ms/step\n",
      "3\n"
     ]
    }
   ],
   "source": [
    "#predicting using user input\n",
    "predict = model.predict(input_image)\n",
    "predict = np.argmax(predict)\n",
    "print(predict)"
   ]
  },
  {
   "cell_type": "code",
   "execution_count": null,
   "id": "17302981",
   "metadata": {},
   "outputs": [],
   "source": []
  }
 ],
 "metadata": {
  "kernelspec": {
   "display_name": "Python 3 (ipykernel)",
   "language": "python",
   "name": "python3"
  },
  "language_info": {
   "codemirror_mode": {
    "name": "ipython",
    "version": 3
   },
   "file_extension": ".py",
   "mimetype": "text/x-python",
   "name": "python",
   "nbconvert_exporter": "python",
   "pygments_lexer": "ipython3",
   "version": "3.9.12"
  }
 },
 "nbformat": 4,
 "nbformat_minor": 5
}
